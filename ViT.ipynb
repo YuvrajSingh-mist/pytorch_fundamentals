{
 "cells": [
  {
   "cell_type": "code",
   "execution_count": 168,
   "metadata": {},
   "outputs": [],
   "source": [
    "import torch\n",
    "import torchvision\n",
    "from pathlib import Path"
   ]
  },
  {
   "cell_type": "code",
   "execution_count": 3,
   "metadata": {},
   "outputs": [],
   "source": [
    "import matplotlib.pyplot as plt\n",
    "import torch\n",
    "import torchvision\n",
    "import torchinfo\n",
    "from torch import nn\n",
    "from torchvision import transforms"
   ]
  },
  {
   "cell_type": "code",
   "execution_count": 11,
   "metadata": {},
   "outputs": [
    {
     "data": {
      "text/plain": [
       "'cuda'"
      ]
     },
     "execution_count": 11,
     "metadata": {},
     "output_type": "execute_result"
    }
   ],
   "source": [
    "device = \"cuda\" if torch.cuda.is_available() else \"cpu\"\n",
    "device\n",
    "     "
   ]
  },
  {
   "cell_type": "code",
   "execution_count": 12,
   "metadata": {},
   "outputs": [],
   "source": [
    "data_path = Path(\"data2/\")"
   ]
  },
  {
   "cell_type": "code",
   "execution_count": 13,
   "metadata": {},
   "outputs": [],
   "source": [
    "image_path = data_path / \"pizza_steak_sushi\"\n",
    "train_dir = image_path / \"train\"\n",
    "test_dir = image_path / \"test\""
   ]
  },
  {
   "cell_type": "code",
   "execution_count": 14,
   "metadata": {},
   "outputs": [],
   "source": [
    "#Transforms\n",
    "data_transform = transforms.Compose([\n",
    "    transforms.Resize(size=(224,224)),\n",
    "    # transforms.RandomHorizontalFlip(p=0.5),\n",
    "    transforms.ToTensor()\n",
    "])"
   ]
  },
  {
   "cell_type": "code",
   "execution_count": 15,
   "metadata": {},
   "outputs": [],
   "source": [
    "from torchvision import datasets\n",
    "train_data = datasets.ImageFolder(train_dir, transform=data_transform, target_transform=None)\n",
    "test_data = datasets.ImageFolder(test_dir, transform=data_transform, target_transform=None)\n"
   ]
  },
  {
   "cell_type": "code",
   "execution_count": 16,
   "metadata": {},
   "outputs": [],
   "source": [
    "from torch.utils.data import DataLoader\n",
    "import os"
   ]
  },
  {
   "cell_type": "code",
   "execution_count": 17,
   "metadata": {},
   "outputs": [],
   "source": [
    "train_dataloader = DataLoader(dataset=train_data, num_workers=os.cpu_count(), batch_size=32, shuffle=True)\n",
    "test_dataloader = DataLoader(dataset=test_data, num_workers=os.cpu_count(), batch_size=32, shuffle=True)"
   ]
  },
  {
   "cell_type": "code",
   "execution_count": 18,
   "metadata": {},
   "outputs": [],
   "source": [
    "#Patch Embeddings"
   ]
  },
  {
   "cell_type": "code",
   "execution_count": 140,
   "metadata": {},
   "outputs": [],
   "source": [
    "class PatchEmbeddings(nn.Module):\n",
    "    \n",
    "    def __init__(self, \n",
    "                 in_channels: int=3, \n",
    "                 embeddings_dimensions: int=768,\n",
    "                 patch_size: int=16):\n",
    "        super().__init__()\n",
    "        \n",
    "        self.patch_size = patch_size\n",
    "        self.patched_embeddings = nn.Conv2d(in_channels=in_channels, out_channels=embeddings_dimensions, stride=patch_size, padding=0, kernel_size=patch_size)\n",
    "        \n",
    "        self.flatten_embeddings = nn.Flatten(start_dim=2, end_dim=3)\n",
    "        \n",
    "    def forward(self, x):\n",
    "        image_resolution = x.shape[-1]\n",
    "        assert image_resolution % self.patch_size == 0, f\"Input image size must be divisible by patch size, image shape: {image_resolution}, patch size: {self.patch_size}\"\n",
    "\n",
    "        x_patched = self.patched_embeddings(x)\n",
    "        x_flatten = self.flatten_embeddings(x_patched)\n",
    "        return x_flatten.permute(0,2,1)"
   ]
  },
  {
   "cell_type": "code",
   "execution_count": 102,
   "metadata": {},
   "outputs": [],
   "source": [
    "class MultiHeadSelfAttentionBlock(nn.Module):\n",
    "    \n",
    "    def __init__(\n",
    "        self,\n",
    "        num_heads: int=12,\n",
    "        embeddings_dimension: int=768,\n",
    "        attn_dropout: int=0\n",
    "    ):\n",
    "        super().__init__()\n",
    "        \n",
    "        self.layer_norm = nn.LayerNorm(embeddings_dimension)\n",
    "        self.multihead_attn_layer = nn.MultiheadAttention(embed_dim=embeddings_dimension, num_heads=num_heads, dropout=attn_dropout, batch_first=True)\n",
    "        \n",
    "    def forward(self, x):\n",
    "        x = self.layer_norm(x)\n",
    "        attn_output, _  = self.multihead_attn_layer(query=x, key=x, value=x, need_weights=False)\n",
    "        # print(attn_output)\n",
    "        return attn_output\n",
    "        \n",
    "        "
   ]
  },
  {
   "cell_type": "code",
   "execution_count": 131,
   "metadata": {},
   "outputs": [],
   "source": [
    "class MLPBlock(nn.Module):\n",
    "  def __init__(self,\n",
    "               embeddings_dimension:int=768,\n",
    "               mlp_size:int=3072,\n",
    "               dropout:int=0.1):\n",
    "    super().__init__()\n",
    "  \n",
    "\n",
    "    self.layer_norm = nn.LayerNorm(normalized_shape=embeddings_dimension)\n",
    "\n",
    "\n",
    "    self.mlp = nn.Sequential(\n",
    "        nn.Linear(in_features=embeddings_dimension,\n",
    "                  out_features=mlp_size),\n",
    "        nn.GELU(),\n",
    "        nn.Dropout(p=dropout),\n",
    "        nn.Linear(in_features=mlp_size,\n",
    "                  out_features=embeddings_dimension),\n",
    "        nn.Dropout(p=dropout) \n",
    "    )\n",
    "  \n",
    "  def forward(self, x):\n",
    "    x = self.layer_norm(x) \n",
    "    x = self.mlp(x)\n",
    "    return x\n",
    "    # return self.mlp(self.layer_norm(x)) # same as above "
   ]
  },
  {
   "cell_type": "code",
   "execution_count": 132,
   "metadata": {},
   "outputs": [],
   "source": [
    "class TransfornmerEncoderBlock(nn.Module):\n",
    "    def __init__(\n",
    "        self,\n",
    "        num_heads: int=12,\n",
    "        embeddings_dimension: int=768,\n",
    "        dropout: int=0.1,\n",
    "        mlp_size:  int=3072,\n",
    "        attn_dropout: int=0\n",
    "    ):\n",
    "        super().__init__()\n",
    "        \n",
    "        self.msa_layer = MultiHeadSelfAttentionBlock(num_heads=num_heads, embeddings_dimension=embeddings_dimension, attn_dropout=attn_dropout)\n",
    "        \n",
    "        self.mlp_block = MLPBlock(dropout=dropout, embeddings_dimension=embeddings_dimension, mlp_size=mlp_size)\n",
    "        \n",
    "    def forward(self, x):\n",
    "        x = self.msa_layer(x) + x\n",
    "        x = self.mlp_block(x) + x\n",
    "        \n",
    "        return x"
   ]
  },
  {
   "cell_type": "code",
   "execution_count": 133,
   "metadata": {},
   "outputs": [],
   "source": [
    "encoder = TransfornmerEncoderBlock()\n"
   ]
  },
  {
   "cell_type": "code",
   "execution_count": 134,
   "metadata": {},
   "outputs": [
    {
     "data": {
      "text/plain": [
       "TransformerEncoderLayer(\n",
       "  (self_attn): MultiheadAttention(\n",
       "    (out_proj): NonDynamicallyQuantizableLinear(in_features=768, out_features=768, bias=True)\n",
       "  )\n",
       "  (linear1): Linear(in_features=768, out_features=3072, bias=True)\n",
       "  (dropout): Dropout(p=0.1, inplace=False)\n",
       "  (linear2): Linear(in_features=3072, out_features=768, bias=True)\n",
       "  (norm1): LayerNorm((768,), eps=1e-05, elementwise_affine=True)\n",
       "  (norm2): LayerNorm((768,), eps=1e-05, elementwise_affine=True)\n",
       "  (dropout1): Dropout(p=0.1, inplace=False)\n",
       "  (dropout2): Dropout(p=0.1, inplace=False)\n",
       ")"
      ]
     },
     "execution_count": 134,
     "metadata": {},
     "output_type": "execute_result"
    }
   ],
   "source": [
    "\n",
    "torch_transformer_encoder_layer = nn.TransformerEncoderLayer(d_model=768, # embedding size from table 1\n",
    "                                                             nhead=12, # heads from table 1\n",
    "                                                             dim_feedforward=3072, # MLP size from table\n",
    "                                                             dropout=0.1,\n",
    "                                                             activation=\"gelu\",\n",
    "                                                             batch_first=True,\n",
    "                                                             norm_first=True)\n",
    "\n",
    "torch_transformer_encoder_layer"
   ]
  },
  {
   "cell_type": "code",
   "execution_count": 135,
   "metadata": {},
   "outputs": [
    {
     "data": {
      "text/plain": [
       "=======================================================================================================================================\n",
       "Layer (type (var_name))                                 Input Shape          Output Shape         Param #              Trainable\n",
       "=======================================================================================================================================\n",
       "TransfornmerEncoderBlock (TransfornmerEncoderBlock)     [1, 197, 768]        [1, 197, 768]        --                   True\n",
       "├─MultiHeadSelfAttentionBlock (msa_layer)               [1, 197, 768]        [1, 197, 768]        --                   True\n",
       "│    └─LayerNorm (layer_norm)                           [1, 197, 768]        [1, 197, 768]        1,536                True\n",
       "│    └─MultiheadAttention (multihead_attn_layer)        --                   [1, 197, 768]        2,362,368            True\n",
       "├─MLPBlock (mlp_block)                                  [1, 197, 768]        [1, 197, 768]        --                   True\n",
       "│    └─LayerNorm (layer_norm)                           [1, 197, 768]        [1, 197, 768]        1,536                True\n",
       "│    └─Sequential (mlp)                                 [1, 197, 768]        [1, 197, 768]        --                   True\n",
       "│    │    └─Linear (0)                                  [1, 197, 768]        [1, 197, 3072]       2,362,368            True\n",
       "│    │    └─GELU (1)                                    [1, 197, 3072]       [1, 197, 3072]       --                   --\n",
       "│    │    └─Dropout (2)                                 [1, 197, 3072]       [1, 197, 3072]       --                   --\n",
       "│    │    └─Linear (3)                                  [1, 197, 3072]       [1, 197, 768]        2,360,064            True\n",
       "│    │    └─Dropout (4)                                 [1, 197, 768]        [1, 197, 768]        --                   --\n",
       "=======================================================================================================================================\n",
       "Total params: 7,087,872\n",
       "Trainable params: 7,087,872\n",
       "Non-trainable params: 0\n",
       "Total mult-adds (M): 4.73\n",
       "=======================================================================================================================================\n",
       "Input size (MB): 0.61\n",
       "Forward/backward pass size (MB): 8.47\n",
       "Params size (MB): 18.90\n",
       "Estimated Total Size (MB): 27.98\n",
       "======================================================================================================================================="
      ]
     },
     "execution_count": 135,
     "metadata": {},
     "output_type": "execute_result"
    }
   ],
   "source": [
    "from torchinfo import summary\n",
    "\n",
    "summary(model=encoder,\n",
    "        input_size=(1, 197, 768), # (batch_size, number_of_patches, embedding_d\\imension)\n",
    "        col_names=[\"input_size\", \"output_size\", \"num_params\", \"trainable\"],\n",
    "        col_width=20,\n",
    "        row_settings=[\"var_names\"])"
   ]
  },
  {
   "cell_type": "code",
   "execution_count": 54,
   "metadata": {},
   "outputs": [
    {
     "data": {
      "text/plain": [
       "==================================================================================================================================\n",
       "Layer (type (var_name))                            Input Shape          Output Shape         Param #              Trainable\n",
       "==================================================================================================================================\n",
       "TransformerEncoderLayer (TransformerEncoderLayer)  [1, 197, 768]        [1, 197, 768]        7,087,872            True\n",
       "==================================================================================================================================\n",
       "Total params: 7,087,872\n",
       "Trainable params: 7,087,872\n",
       "Non-trainable params: 0\n",
       "Total mult-adds (M): 0\n",
       "==================================================================================================================================\n",
       "Input size (MB): 0.61\n",
       "Forward/backward pass size (MB): 0.00\n",
       "Params size (MB): 0.00\n",
       "Estimated Total Size (MB): 0.61\n",
       "=================================================================================================================================="
      ]
     },
     "execution_count": 54,
     "metadata": {},
     "output_type": "execute_result"
    }
   ],
   "source": [
    "summary(model=torch_transformer_encoder_layer,\n",
    "        input_size=(1, 197, 768), # (batch_size, number_of_patches, embedding_dimension)\n",
    "        col_names=[\"input_size\", \"output_size\", \"num_params\", \"trainable\"],\n",
    "        col_width=20,\n",
    "        row_settings=[\"var_names\"])\n",
    "     \n",
    "     "
   ]
  },
  {
   "cell_type": "code",
   "execution_count": 150,
   "metadata": {},
   "outputs": [],
   "source": [
    "class ViT(nn.Module):\n",
    "    def __init__(\n",
    "        self,\n",
    "        num_heads: int=12,\n",
    "        embeddings_dimension: int=768,\n",
    "        dropout: int=0.1,\n",
    "        mlp_size:  int=3072,\n",
    "        attn_dropout: int=0,\n",
    "        num_of_encoder_layers: int=12,\n",
    "        patch_size: int=16,\n",
    "        image_width: int=224,\n",
    "        img_height: int=224,\n",
    "        no_channels: int=3,\n",
    "        classes: int=1000,\n",
    "        positional_embedding_dropout: int=0.1\n",
    "        \n",
    "    ):\n",
    "        assert (img_height * image_width) % patch_size == 0\n",
    "        \n",
    "        super().__init__()\n",
    "        self.number_of_patches = (image_width * img_height)//(patch_size * patch_size)\n",
    "        # print(self.number_of_patches\n",
    "        self.patch_embeddings = PatchEmbeddings(in_channels=no_channels, embeddings_dimensions=embeddings_dimension,patch_size=patch_size)\n",
    "        self.positional_embeddings = nn.Parameter(torch.randn(1, self.number_of_patches + 1, embeddings_dimension), requires_grad=True)\n",
    "        self.cls_token = nn.Parameter(torch.randn(1,1, embeddings_dimension), requires_grad=True)\n",
    "        \n",
    "        # self.encoder_layer = TransfornmerEncoderBlock(num_heads=num_heads, embeddings_dimension=embeddings_dimension, dropout=dropout, mlp_size=mlp_size,attn_dropout=attn_dropout)\n",
    "        \n",
    "        self.encoder_block = nn.Sequential(*[TransfornmerEncoderBlock(num_heads=num_heads, embeddings_dimension=embeddings_dimension, dropout=dropout, mlp_size=mlp_size,attn_dropout=attn_dropout) for _ in range(num_of_encoder_layers)])\n",
    "        \n",
    "        self.classifier = nn.Sequential(\n",
    "            \n",
    "            nn.LayerNorm(embeddings_dimension),\n",
    "            nn.Linear(in_features=embeddings_dimension, out_features=classes)\n",
    "        )\n",
    "        \n",
    "        self.dropout_after_positional_embeddings = nn.Dropout(p=positional_embedding_dropout)\n",
    "        \n",
    "    def forward(self, x):\n",
    "        batch_size = x.shape[0]\n",
    "        x = self.patch_embeddings(x)\n",
    "        prepend_token = self.cls_token.expand(batch_size, -1, -1) \n",
    "        \n",
    "        x = torch.cat((prepend_token, x), dim=1)\n",
    "        x = self.positional_embeddings + x\n",
    "        x = self.dropout_after_positional_embeddings(x)\n",
    "        x = self.encoder_block(x)\n",
    "        x = self.classifier(x[:,0])\n",
    "        \n",
    "        return x\n",
    "            \n",
    "            \n",
    "        "
   ]
  },
  {
   "cell_type": "code",
   "execution_count": 160,
   "metadata": {},
   "outputs": [
    {
     "data": {
      "text/plain": [
       "ViT(\n",
       "  (patch_embeddings): PatchEmbeddings(\n",
       "    (patched_embeddings): Conv2d(3, 768, kernel_size=(16, 16), stride=(16, 16))\n",
       "    (flatten_embeddings): Flatten(start_dim=2, end_dim=3)\n",
       "  )\n",
       "  (encoder_block): Sequential(\n",
       "    (0): TransfornmerEncoderBlock(\n",
       "      (msa_layer): MultiHeadSelfAttentionBlock(\n",
       "        (layer_norm): LayerNorm((768,), eps=1e-05, elementwise_affine=True)\n",
       "        (multihead_attn_layer): MultiheadAttention(\n",
       "          (out_proj): NonDynamicallyQuantizableLinear(in_features=768, out_features=768, bias=True)\n",
       "        )\n",
       "      )\n",
       "      (mlp_block): MLPBlock(\n",
       "        (layer_norm): LayerNorm((768,), eps=1e-05, elementwise_affine=True)\n",
       "        (mlp): Sequential(\n",
       "          (0): Linear(in_features=768, out_features=3072, bias=True)\n",
       "          (1): GELU(approximate='none')\n",
       "          (2): Dropout(p=0.1, inplace=False)\n",
       "          (3): Linear(in_features=3072, out_features=768, bias=True)\n",
       "          (4): Dropout(p=0.1, inplace=False)\n",
       "        )\n",
       "      )\n",
       "    )\n",
       "    (1): TransfornmerEncoderBlock(\n",
       "      (msa_layer): MultiHeadSelfAttentionBlock(\n",
       "        (layer_norm): LayerNorm((768,), eps=1e-05, elementwise_affine=True)\n",
       "        (multihead_attn_layer): MultiheadAttention(\n",
       "          (out_proj): NonDynamicallyQuantizableLinear(in_features=768, out_features=768, bias=True)\n",
       "        )\n",
       "      )\n",
       "      (mlp_block): MLPBlock(\n",
       "        (layer_norm): LayerNorm((768,), eps=1e-05, elementwise_affine=True)\n",
       "        (mlp): Sequential(\n",
       "          (0): Linear(in_features=768, out_features=3072, bias=True)\n",
       "          (1): GELU(approximate='none')\n",
       "          (2): Dropout(p=0.1, inplace=False)\n",
       "          (3): Linear(in_features=3072, out_features=768, bias=True)\n",
       "          (4): Dropout(p=0.1, inplace=False)\n",
       "        )\n",
       "      )\n",
       "    )\n",
       "    (2): TransfornmerEncoderBlock(\n",
       "      (msa_layer): MultiHeadSelfAttentionBlock(\n",
       "        (layer_norm): LayerNorm((768,), eps=1e-05, elementwise_affine=True)\n",
       "        (multihead_attn_layer): MultiheadAttention(\n",
       "          (out_proj): NonDynamicallyQuantizableLinear(in_features=768, out_features=768, bias=True)\n",
       "        )\n",
       "      )\n",
       "      (mlp_block): MLPBlock(\n",
       "        (layer_norm): LayerNorm((768,), eps=1e-05, elementwise_affine=True)\n",
       "        (mlp): Sequential(\n",
       "          (0): Linear(in_features=768, out_features=3072, bias=True)\n",
       "          (1): GELU(approximate='none')\n",
       "          (2): Dropout(p=0.1, inplace=False)\n",
       "          (3): Linear(in_features=3072, out_features=768, bias=True)\n",
       "          (4): Dropout(p=0.1, inplace=False)\n",
       "        )\n",
       "      )\n",
       "    )\n",
       "    (3): TransfornmerEncoderBlock(\n",
       "      (msa_layer): MultiHeadSelfAttentionBlock(\n",
       "        (layer_norm): LayerNorm((768,), eps=1e-05, elementwise_affine=True)\n",
       "        (multihead_attn_layer): MultiheadAttention(\n",
       "          (out_proj): NonDynamicallyQuantizableLinear(in_features=768, out_features=768, bias=True)\n",
       "        )\n",
       "      )\n",
       "      (mlp_block): MLPBlock(\n",
       "        (layer_norm): LayerNorm((768,), eps=1e-05, elementwise_affine=True)\n",
       "        (mlp): Sequential(\n",
       "          (0): Linear(in_features=768, out_features=3072, bias=True)\n",
       "          (1): GELU(approximate='none')\n",
       "          (2): Dropout(p=0.1, inplace=False)\n",
       "          (3): Linear(in_features=3072, out_features=768, bias=True)\n",
       "          (4): Dropout(p=0.1, inplace=False)\n",
       "        )\n",
       "      )\n",
       "    )\n",
       "    (4): TransfornmerEncoderBlock(\n",
       "      (msa_layer): MultiHeadSelfAttentionBlock(\n",
       "        (layer_norm): LayerNorm((768,), eps=1e-05, elementwise_affine=True)\n",
       "        (multihead_attn_layer): MultiheadAttention(\n",
       "          (out_proj): NonDynamicallyQuantizableLinear(in_features=768, out_features=768, bias=True)\n",
       "        )\n",
       "      )\n",
       "      (mlp_block): MLPBlock(\n",
       "        (layer_norm): LayerNorm((768,), eps=1e-05, elementwise_affine=True)\n",
       "        (mlp): Sequential(\n",
       "          (0): Linear(in_features=768, out_features=3072, bias=True)\n",
       "          (1): GELU(approximate='none')\n",
       "          (2): Dropout(p=0.1, inplace=False)\n",
       "          (3): Linear(in_features=3072, out_features=768, bias=True)\n",
       "          (4): Dropout(p=0.1, inplace=False)\n",
       "        )\n",
       "      )\n",
       "    )\n",
       "    (5): TransfornmerEncoderBlock(\n",
       "      (msa_layer): MultiHeadSelfAttentionBlock(\n",
       "        (layer_norm): LayerNorm((768,), eps=1e-05, elementwise_affine=True)\n",
       "        (multihead_attn_layer): MultiheadAttention(\n",
       "          (out_proj): NonDynamicallyQuantizableLinear(in_features=768, out_features=768, bias=True)\n",
       "        )\n",
       "      )\n",
       "      (mlp_block): MLPBlock(\n",
       "        (layer_norm): LayerNorm((768,), eps=1e-05, elementwise_affine=True)\n",
       "        (mlp): Sequential(\n",
       "          (0): Linear(in_features=768, out_features=3072, bias=True)\n",
       "          (1): GELU(approximate='none')\n",
       "          (2): Dropout(p=0.1, inplace=False)\n",
       "          (3): Linear(in_features=3072, out_features=768, bias=True)\n",
       "          (4): Dropout(p=0.1, inplace=False)\n",
       "        )\n",
       "      )\n",
       "    )\n",
       "    (6): TransfornmerEncoderBlock(\n",
       "      (msa_layer): MultiHeadSelfAttentionBlock(\n",
       "        (layer_norm): LayerNorm((768,), eps=1e-05, elementwise_affine=True)\n",
       "        (multihead_attn_layer): MultiheadAttention(\n",
       "          (out_proj): NonDynamicallyQuantizableLinear(in_features=768, out_features=768, bias=True)\n",
       "        )\n",
       "      )\n",
       "      (mlp_block): MLPBlock(\n",
       "        (layer_norm): LayerNorm((768,), eps=1e-05, elementwise_affine=True)\n",
       "        (mlp): Sequential(\n",
       "          (0): Linear(in_features=768, out_features=3072, bias=True)\n",
       "          (1): GELU(approximate='none')\n",
       "          (2): Dropout(p=0.1, inplace=False)\n",
       "          (3): Linear(in_features=3072, out_features=768, bias=True)\n",
       "          (4): Dropout(p=0.1, inplace=False)\n",
       "        )\n",
       "      )\n",
       "    )\n",
       "    (7): TransfornmerEncoderBlock(\n",
       "      (msa_layer): MultiHeadSelfAttentionBlock(\n",
       "        (layer_norm): LayerNorm((768,), eps=1e-05, elementwise_affine=True)\n",
       "        (multihead_attn_layer): MultiheadAttention(\n",
       "          (out_proj): NonDynamicallyQuantizableLinear(in_features=768, out_features=768, bias=True)\n",
       "        )\n",
       "      )\n",
       "      (mlp_block): MLPBlock(\n",
       "        (layer_norm): LayerNorm((768,), eps=1e-05, elementwise_affine=True)\n",
       "        (mlp): Sequential(\n",
       "          (0): Linear(in_features=768, out_features=3072, bias=True)\n",
       "          (1): GELU(approximate='none')\n",
       "          (2): Dropout(p=0.1, inplace=False)\n",
       "          (3): Linear(in_features=3072, out_features=768, bias=True)\n",
       "          (4): Dropout(p=0.1, inplace=False)\n",
       "        )\n",
       "      )\n",
       "    )\n",
       "    (8): TransfornmerEncoderBlock(\n",
       "      (msa_layer): MultiHeadSelfAttentionBlock(\n",
       "        (layer_norm): LayerNorm((768,), eps=1e-05, elementwise_affine=True)\n",
       "        (multihead_attn_layer): MultiheadAttention(\n",
       "          (out_proj): NonDynamicallyQuantizableLinear(in_features=768, out_features=768, bias=True)\n",
       "        )\n",
       "      )\n",
       "      (mlp_block): MLPBlock(\n",
       "        (layer_norm): LayerNorm((768,), eps=1e-05, elementwise_affine=True)\n",
       "        (mlp): Sequential(\n",
       "          (0): Linear(in_features=768, out_features=3072, bias=True)\n",
       "          (1): GELU(approximate='none')\n",
       "          (2): Dropout(p=0.1, inplace=False)\n",
       "          (3): Linear(in_features=3072, out_features=768, bias=True)\n",
       "          (4): Dropout(p=0.1, inplace=False)\n",
       "        )\n",
       "      )\n",
       "    )\n",
       "    (9): TransfornmerEncoderBlock(\n",
       "      (msa_layer): MultiHeadSelfAttentionBlock(\n",
       "        (layer_norm): LayerNorm((768,), eps=1e-05, elementwise_affine=True)\n",
       "        (multihead_attn_layer): MultiheadAttention(\n",
       "          (out_proj): NonDynamicallyQuantizableLinear(in_features=768, out_features=768, bias=True)\n",
       "        )\n",
       "      )\n",
       "      (mlp_block): MLPBlock(\n",
       "        (layer_norm): LayerNorm((768,), eps=1e-05, elementwise_affine=True)\n",
       "        (mlp): Sequential(\n",
       "          (0): Linear(in_features=768, out_features=3072, bias=True)\n",
       "          (1): GELU(approximate='none')\n",
       "          (2): Dropout(p=0.1, inplace=False)\n",
       "          (3): Linear(in_features=3072, out_features=768, bias=True)\n",
       "          (4): Dropout(p=0.1, inplace=False)\n",
       "        )\n",
       "      )\n",
       "    )\n",
       "    (10): TransfornmerEncoderBlock(\n",
       "      (msa_layer): MultiHeadSelfAttentionBlock(\n",
       "        (layer_norm): LayerNorm((768,), eps=1e-05, elementwise_affine=True)\n",
       "        (multihead_attn_layer): MultiheadAttention(\n",
       "          (out_proj): NonDynamicallyQuantizableLinear(in_features=768, out_features=768, bias=True)\n",
       "        )\n",
       "      )\n",
       "      (mlp_block): MLPBlock(\n",
       "        (layer_norm): LayerNorm((768,), eps=1e-05, elementwise_affine=True)\n",
       "        (mlp): Sequential(\n",
       "          (0): Linear(in_features=768, out_features=3072, bias=True)\n",
       "          (1): GELU(approximate='none')\n",
       "          (2): Dropout(p=0.1, inplace=False)\n",
       "          (3): Linear(in_features=3072, out_features=768, bias=True)\n",
       "          (4): Dropout(p=0.1, inplace=False)\n",
       "        )\n",
       "      )\n",
       "    )\n",
       "    (11): TransfornmerEncoderBlock(\n",
       "      (msa_layer): MultiHeadSelfAttentionBlock(\n",
       "        (layer_norm): LayerNorm((768,), eps=1e-05, elementwise_affine=True)\n",
       "        (multihead_attn_layer): MultiheadAttention(\n",
       "          (out_proj): NonDynamicallyQuantizableLinear(in_features=768, out_features=768, bias=True)\n",
       "        )\n",
       "      )\n",
       "      (mlp_block): MLPBlock(\n",
       "        (layer_norm): LayerNorm((768,), eps=1e-05, elementwise_affine=True)\n",
       "        (mlp): Sequential(\n",
       "          (0): Linear(in_features=768, out_features=3072, bias=True)\n",
       "          (1): GELU(approximate='none')\n",
       "          (2): Dropout(p=0.1, inplace=False)\n",
       "          (3): Linear(in_features=3072, out_features=768, bias=True)\n",
       "          (4): Dropout(p=0.1, inplace=False)\n",
       "        )\n",
       "      )\n",
       "    )\n",
       "  )\n",
       "  (classifier): Sequential(\n",
       "    (0): LayerNorm((768,), eps=1e-05, elementwise_affine=True)\n",
       "    (1): Linear(in_features=768, out_features=3, bias=True)\n",
       "  )\n",
       "  (dropout_after_positional_embeddings): Dropout(p=0.1, inplace=False)\n",
       ")"
      ]
     },
     "execution_count": 160,
     "metadata": {},
     "output_type": "execute_result"
    }
   ],
   "source": [
    "vit = ViT(classes=3)\n",
    "vit"
   ]
  },
  {
   "cell_type": "code",
   "execution_count": 161,
   "metadata": {},
   "outputs": [
    {
     "data": {
      "text/plain": [
       "=================================================================================================================================================\n",
       "Layer (type (var_name))                                           Input Shape          Output Shape         Param #              Trainable\n",
       "=================================================================================================================================================\n",
       "ViT (ViT)                                                         [1, 3, 224, 224]     [1, 3]               152,064              True\n",
       "├─PatchEmbeddings (patch_embeddings)                              [1, 3, 224, 224]     [1, 196, 768]        --                   True\n",
       "│    └─Conv2d (patched_embeddings)                                [1, 3, 224, 224]     [1, 768, 14, 14]     590,592              True\n",
       "│    └─Flatten (flatten_embeddings)                               [1, 768, 14, 14]     [1, 768, 196]        --                   --\n",
       "├─Dropout (dropout_after_positional_embeddings)                   [1, 197, 768]        [1, 197, 768]        --                   --\n",
       "├─Sequential (encoder_block)                                      [1, 197, 768]        [1, 197, 768]        --                   True\n",
       "│    └─TransfornmerEncoderBlock (0)                               [1, 197, 768]        [1, 197, 768]        --                   True\n",
       "│    │    └─MultiHeadSelfAttentionBlock (msa_layer)               [1, 197, 768]        [1, 197, 768]        2,363,904            True\n",
       "│    │    └─MLPBlock (mlp_block)                                  [1, 197, 768]        [1, 197, 768]        4,723,968            True\n",
       "│    └─TransfornmerEncoderBlock (1)                               [1, 197, 768]        [1, 197, 768]        --                   True\n",
       "│    │    └─MultiHeadSelfAttentionBlock (msa_layer)               [1, 197, 768]        [1, 197, 768]        2,363,904            True\n",
       "│    │    └─MLPBlock (mlp_block)                                  [1, 197, 768]        [1, 197, 768]        4,723,968            True\n",
       "│    └─TransfornmerEncoderBlock (2)                               [1, 197, 768]        [1, 197, 768]        --                   True\n",
       "│    │    └─MultiHeadSelfAttentionBlock (msa_layer)               [1, 197, 768]        [1, 197, 768]        2,363,904            True\n",
       "│    │    └─MLPBlock (mlp_block)                                  [1, 197, 768]        [1, 197, 768]        4,723,968            True\n",
       "│    └─TransfornmerEncoderBlock (3)                               [1, 197, 768]        [1, 197, 768]        --                   True\n",
       "│    │    └─MultiHeadSelfAttentionBlock (msa_layer)               [1, 197, 768]        [1, 197, 768]        2,363,904            True\n",
       "│    │    └─MLPBlock (mlp_block)                                  [1, 197, 768]        [1, 197, 768]        4,723,968            True\n",
       "│    └─TransfornmerEncoderBlock (4)                               [1, 197, 768]        [1, 197, 768]        --                   True\n",
       "│    │    └─MultiHeadSelfAttentionBlock (msa_layer)               [1, 197, 768]        [1, 197, 768]        2,363,904            True\n",
       "│    │    └─MLPBlock (mlp_block)                                  [1, 197, 768]        [1, 197, 768]        4,723,968            True\n",
       "│    └─TransfornmerEncoderBlock (5)                               [1, 197, 768]        [1, 197, 768]        --                   True\n",
       "│    │    └─MultiHeadSelfAttentionBlock (msa_layer)               [1, 197, 768]        [1, 197, 768]        2,363,904            True\n",
       "│    │    └─MLPBlock (mlp_block)                                  [1, 197, 768]        [1, 197, 768]        4,723,968            True\n",
       "│    └─TransfornmerEncoderBlock (6)                               [1, 197, 768]        [1, 197, 768]        --                   True\n",
       "│    │    └─MultiHeadSelfAttentionBlock (msa_layer)               [1, 197, 768]        [1, 197, 768]        2,363,904            True\n",
       "│    │    └─MLPBlock (mlp_block)                                  [1, 197, 768]        [1, 197, 768]        4,723,968            True\n",
       "│    └─TransfornmerEncoderBlock (7)                               [1, 197, 768]        [1, 197, 768]        --                   True\n",
       "│    │    └─MultiHeadSelfAttentionBlock (msa_layer)               [1, 197, 768]        [1, 197, 768]        2,363,904            True\n",
       "│    │    └─MLPBlock (mlp_block)                                  [1, 197, 768]        [1, 197, 768]        4,723,968            True\n",
       "│    └─TransfornmerEncoderBlock (8)                               [1, 197, 768]        [1, 197, 768]        --                   True\n",
       "│    │    └─MultiHeadSelfAttentionBlock (msa_layer)               [1, 197, 768]        [1, 197, 768]        2,363,904            True\n",
       "│    │    └─MLPBlock (mlp_block)                                  [1, 197, 768]        [1, 197, 768]        4,723,968            True\n",
       "│    └─TransfornmerEncoderBlock (9)                               [1, 197, 768]        [1, 197, 768]        --                   True\n",
       "│    │    └─MultiHeadSelfAttentionBlock (msa_layer)               [1, 197, 768]        [1, 197, 768]        2,363,904            True\n",
       "│    │    └─MLPBlock (mlp_block)                                  [1, 197, 768]        [1, 197, 768]        4,723,968            True\n",
       "│    └─TransfornmerEncoderBlock (10)                              [1, 197, 768]        [1, 197, 768]        --                   True\n",
       "│    │    └─MultiHeadSelfAttentionBlock (msa_layer)               [1, 197, 768]        [1, 197, 768]        2,363,904            True\n",
       "│    │    └─MLPBlock (mlp_block)                                  [1, 197, 768]        [1, 197, 768]        4,723,968            True\n",
       "│    └─TransfornmerEncoderBlock (11)                              [1, 197, 768]        [1, 197, 768]        --                   True\n",
       "│    │    └─MultiHeadSelfAttentionBlock (msa_layer)               [1, 197, 768]        [1, 197, 768]        2,363,904            True\n",
       "│    │    └─MLPBlock (mlp_block)                                  [1, 197, 768]        [1, 197, 768]        4,723,968            True\n",
       "├─Sequential (classifier)                                         [1, 768]             [1, 3]               --                   True\n",
       "│    └─LayerNorm (0)                                              [1, 768]             [1, 768]             1,536                True\n",
       "│    └─Linear (1)                                                 [1, 768]             [1, 3]               2,307                True\n",
       "=================================================================================================================================================\n",
       "Total params: 85,800,963\n",
       "Trainable params: 85,800,963\n",
       "Non-trainable params: 0\n",
       "Total mult-adds (M): 172.47\n",
       "=================================================================================================================================================\n",
       "Input size (MB): 0.60\n",
       "Forward/backward pass size (MB): 102.88\n",
       "Params size (MB): 229.20\n",
       "Estimated Total Size (MB): 332.69\n",
       "================================================================================================================================================="
      ]
     },
     "execution_count": 161,
     "metadata": {},
     "output_type": "execute_result"
    }
   ],
   "source": [
    "summary(model=vit,\n",
    "        input_size=(1, 3, 224, 224), # (batch_size, number_of_patches, embedding_dimension)\n",
    "        col_names=[\"input_size\", \"output_size\", \"num_params\", \"trainable\"],\n",
    "        col_width=20,\n",
    "        row_settings=[\"var_names\"])\n",
    "     \n",
    "     "
   ]
  },
  {
   "cell_type": "code",
   "execution_count": 172,
   "metadata": {},
   "outputs": [],
   "source": [
    "\n",
    "from going_modular.going_modular import engine"
   ]
  },
  {
   "cell_type": "code",
   "execution_count": 163,
   "metadata": {},
   "outputs": [
    {
     "data": {
      "text/plain": [
       "'cuda'"
      ]
     },
     "execution_count": 163,
     "metadata": {},
     "output_type": "execute_result"
    }
   ],
   "source": [
    "optimizer = torch.optim.Adam(weight_decay=0.03, params=vit.parameters(), lr=1e-3)\n",
    "loss_fn = nn.CrossEntropyLoss()\n",
    "device"
   ]
  },
  {
   "cell_type": "code",
   "execution_count": 165,
   "metadata": {},
   "outputs": [
    {
     "name": "stderr",
     "output_type": "stream",
     "text": [
      " 10%|█         | 1/10 [00:38<05:45, 38.40s/it]"
     ]
    },
    {
     "name": "stdout",
     "output_type": "stream",
     "text": [
      "Epoch: 1 | train_loss: 3.7493 | train_acc: 0.3906 | test_loss: 1.4861 | test_acc: 0.4223\n"
     ]
    },
    {
     "name": "stderr",
     "output_type": "stream",
     "text": [
      " 20%|██        | 2/10 [01:17<05:11, 38.88s/it]"
     ]
    },
    {
     "name": "stdout",
     "output_type": "stream",
     "text": [
      "Epoch: 2 | train_loss: 1.3639 | train_acc: 0.2930 | test_loss: 1.1930 | test_acc: 0.2576\n"
     ]
    },
    {
     "name": "stderr",
     "output_type": "stream",
     "text": [
      " 30%|███       | 3/10 [01:53<04:23, 37.60s/it]"
     ]
    },
    {
     "name": "stdout",
     "output_type": "stream",
     "text": [
      "Epoch: 3 | train_loss: 1.4697 | train_acc: 0.3203 | test_loss: 1.1419 | test_acc: 0.3400\n"
     ]
    },
    {
     "name": "stderr",
     "output_type": "stream",
     "text": [
      " 40%|████      | 4/10 [02:34<03:54, 39.00s/it]"
     ]
    },
    {
     "name": "stdout",
     "output_type": "stream",
     "text": [
      "Epoch: 4 | train_loss: 1.4833 | train_acc: 0.2812 | test_loss: 1.1800 | test_acc: 0.3627\n"
     ]
    },
    {
     "name": "stderr",
     "output_type": "stream",
     "text": [
      " 50%|█████     | 5/10 [03:18<03:23, 40.64s/it]"
     ]
    },
    {
     "name": "stdout",
     "output_type": "stream",
     "text": [
      "Epoch: 5 | train_loss: 1.4551 | train_acc: 0.3164 | test_loss: 1.1553 | test_acc: 0.3797\n"
     ]
    },
    {
     "name": "stderr",
     "output_type": "stream",
     "text": [
      " 60%|██████    | 6/10 [03:59<02:43, 40.81s/it]"
     ]
    },
    {
     "name": "stdout",
     "output_type": "stream",
     "text": [
      "Epoch: 6 | train_loss: 1.2083 | train_acc: 0.4102 | test_loss: 2.1599 | test_acc: 0.3598\n"
     ]
    },
    {
     "name": "stderr",
     "output_type": "stream",
     "text": [
      " 70%|███████   | 7/10 [04:36<01:59, 39.71s/it]"
     ]
    },
    {
     "name": "stdout",
     "output_type": "stream",
     "text": [
      "Epoch: 7 | train_loss: 1.4968 | train_acc: 0.4102 | test_loss: 2.2465 | test_acc: 0.3598\n"
     ]
    },
    {
     "name": "stderr",
     "output_type": "stream",
     "text": [
      " 80%|████████  | 8/10 [05:15<01:18, 39.21s/it]"
     ]
    },
    {
     "name": "stdout",
     "output_type": "stream",
     "text": [
      "Epoch: 8 | train_loss: 1.5548 | train_acc: 0.3828 | test_loss: 1.3088 | test_acc: 0.2576\n"
     ]
    },
    {
     "name": "stderr",
     "output_type": "stream",
     "text": [
      " 90%|█████████ | 9/10 [05:55<00:39, 39.56s/it]"
     ]
    },
    {
     "name": "stdout",
     "output_type": "stream",
     "text": [
      "Epoch: 9 | train_loss: 1.1478 | train_acc: 0.3281 | test_loss: 1.1941 | test_acc: 0.2803\n"
     ]
    },
    {
     "name": "stderr",
     "output_type": "stream",
     "text": [
      "100%|██████████| 10/10 [06:33<00:00, 39.37s/it]"
     ]
    },
    {
     "name": "stdout",
     "output_type": "stream",
     "text": [
      "Epoch: 10 | train_loss: 1.2055 | train_acc: 0.4102 | test_loss: 1.5209 | test_acc: 0.2973\n"
     ]
    },
    {
     "name": "stderr",
     "output_type": "stream",
     "text": [
      "\n"
     ]
    }
   ],
   "source": [
    "results = engine.train(model=vit,\n",
    "                       train_dataloader=train_dataloader,\n",
    "                       test_dataloader=test_dataloader,\n",
    "                       optimizer=optimizer,\n",
    "                       loss_fn=loss_fn,\n",
    "                       epochs=10,\n",
    "                       device=device)"
   ]
  },
  {
   "cell_type": "code",
   "execution_count": 166,
   "metadata": {},
   "outputs": [],
   "source": [
    "from helper_functions import plot_loss_curves"
   ]
  },
  {
   "cell_type": "code",
   "execution_count": 167,
   "metadata": {},
   "outputs": [
    {
     "data": {
      "image/png": "[encoded data removed]",
      "text/plain": [
       "<Figure size 1500x700 with 2 Axes>"
      ]
     },
     "metadata": {},
     "output_type": "display_data"
    }
   ],
   "source": [
    "plot_loss_curves(results)"
   ]
  },
  {
   "cell_type": "code",
   "execution_count": null,
   "metadata": {},
   "outputs": [],
   "source": []
  }
 ],
 "metadata": {
  "kernelspec": {
   "display_name": "py311",
   "language": "python",
   "name": "python3"
  },
  "language_info": {
   "codemirror_mode": {
    "name": "ipython",
    "version": 3
   },
   "file_extension": ".py",
   "mimetype": "text/x-python",
   "name": "python",
   "nbconvert_exporter": "python",
   "pygments_lexer": "ipython3",
   "version": "3.10.13"
  }
 },
 "nbformat": 4,
 "nbformat_minor": 2
}
